{
 "cells": [
  {
   "cell_type": "code",
   "execution_count": 1,
   "metadata": {
    "collapsed": false
   },
   "outputs": [
    {
     "name": "stderr",
     "output_type": "stream",
     "text": [
      "/home/song/anaconda/lib/python2.7/site-packages/matplotlib/__init__.py:872: UserWarning: axes.color_cycle is deprecated and replaced with axes.prop_cycle; please use the latter.\n",
      "  warnings.warn(self.msg_depr % (key, alt_key))\n"
     ]
    }
   ],
   "source": [
    "import csf\n",
    "import seaborn as sns\n",
    "import matplotlib.pyplot as plt"
   ]
  },
  {
   "cell_type": "code",
   "execution_count": 2,
   "metadata": {
    "collapsed": true
   },
   "outputs": [],
   "source": [
    "ak = 'be49d98a6311b992ce9c5269156da9f7'\n",
    "sk = '1tNY78z2bPhWcHbcIKLxKpKcTQo='\n",
    "csf.config.set_token(ak, sk)"
   ]
  },
  {
   "cell_type": "code",
   "execution_count": 6,
   "metadata": {
    "collapsed": false
   },
   "outputs": [
    {
     "name": "stdout",
     "output_type": "stream",
     "text": [
      "/home/song/dev/csf-factors\n"
     ]
    }
   ],
   "source": [
    "cd .."
   ]
  },
  {
   "cell_type": "code",
   "execution_count": 8,
   "metadata": {
    "collapsed": false
   },
   "outputs": [],
   "source": [
    "from factors.analysis import *"
   ]
  },
  {
   "cell_type": "code",
   "execution_count": 9,
   "metadata": {
    "collapsed": false
   },
   "outputs": [
    {
     "ename": "AttributeError",
     "evalue": "'unicode' object has no attribute 'date'",
     "output_type": "error",
     "traceback": [
      "\u001b[1;31m---------------------------------------------------------------------------\u001b[0m",
      "\u001b[1;31mAttributeError\u001b[0m                            Traceback (most recent call last)",
      "\u001b[1;32m<ipython-input-9-8006d8fa5c5d>\u001b[0m in \u001b[0;36m<module>\u001b[1;34m()\u001b[0m\n\u001b[1;32m----> 1\u001b[1;33m \u001b[0mdata\u001b[0m \u001b[1;33m=\u001b[0m \u001b[0mprepare_data\u001b[0m\u001b[1;33m(\u001b[0m\u001b[0mfactor_name\u001b[0m\u001b[1;33m=\u001b[0m\u001b[1;34m'M001012'\u001b[0m\u001b[1;33m,\u001b[0m \u001b[0mindex_code\u001b[0m\u001b[1;33m=\u001b[0m\u001b[1;34m'000300'\u001b[0m\u001b[1;33m,\u001b[0m \u001b[0mbenchmark_code\u001b[0m\u001b[1;33m=\u001b[0m\u001b[1;34m'000300'\u001b[0m\u001b[1;33m,\u001b[0m \u001b[0mstart_date\u001b[0m\u001b[1;33m=\u001b[0m\u001b[1;34m'2012-01-01'\u001b[0m\u001b[1;33m,\u001b[0m \u001b[0mend_date\u001b[0m\u001b[1;33m=\u001b[0m\u001b[1;34m'2016-07-01'\u001b[0m\u001b[1;33m,\u001b[0m\u001b[0mfreq\u001b[0m\u001b[1;33m=\u001b[0m\u001b[1;34m'M'\u001b[0m\u001b[1;33m)\u001b[0m\u001b[1;33m\u001b[0m\u001b[0m\n\u001b[0m",
      "\u001b[1;32m/home/song/dev/csf-factors/factors/analysis.pyc\u001b[0m in \u001b[0;36mprepare_data\u001b[1;34m(factor_name, index_code, benchmark_code, start_date, end_date, freq)\u001b[0m\n\u001b[0;32m     49\u001b[0m     \u001b[1;31m# benchmark_returns = benchmark_returns.loc[dts, :]\u001b[0m\u001b[1;33m\u001b[0m\u001b[1;33m\u001b[0m\u001b[0m\n\u001b[0;32m     50\u001b[0m     \u001b[1;31m# benchmark_returns = benchmark_returns.pct_change().shift(-1).dropna()\u001b[0m\u001b[1;33m\u001b[0m\u001b[1;33m\u001b[0m\u001b[0m\n\u001b[1;32m---> 51\u001b[1;33m     \u001b[0mbenchmark_returns\u001b[0m \u001b[1;33m=\u001b[0m \u001b[0mget_benchmark_return\u001b[0m\u001b[1;33m(\u001b[0m\u001b[0mbench_code\u001b[0m\u001b[1;33m=\u001b[0m\u001b[0mbenchmark_code\u001b[0m\u001b[1;33m,\u001b[0m \u001b[0mdt_index\u001b[0m\u001b[1;33m=\u001b[0m\u001b[0mdts\u001b[0m\u001b[1;33m)\u001b[0m\u001b[1;33m\u001b[0m\u001b[0m\n\u001b[0m\u001b[0;32m     52\u001b[0m     \u001b[0mstocks\u001b[0m \u001b[1;33m=\u001b[0m \u001b[0msorted\u001b[0m\u001b[1;33m(\u001b[0m\u001b[1;33m[\u001b[0m\u001b[0mstr\u001b[0m\u001b[1;33m(\u001b[0m\u001b[0mc\u001b[0m\u001b[1;33m)\u001b[0m \u001b[1;32mfor\u001b[0m \u001b[0mc\u001b[0m \u001b[1;32min\u001b[0m \u001b[0mraw_fac\u001b[0m\u001b[1;33m.\u001b[0m\u001b[0mindex\u001b[0m\u001b[1;33m.\u001b[0m\u001b[0mget_level_values\u001b[0m\u001b[1;33m(\u001b[0m\u001b[1;36m1\u001b[0m\u001b[1;33m)\u001b[0m\u001b[1;33m.\u001b[0m\u001b[0munique\u001b[0m\u001b[1;33m(\u001b[0m\u001b[1;33m)\u001b[0m\u001b[1;33m]\u001b[0m\u001b[1;33m)\u001b[0m\u001b[1;33m\u001b[0m\u001b[0m\n\u001b[0;32m     53\u001b[0m     \u001b[0mreturns\u001b[0m \u001b[1;33m=\u001b[0m \u001b[0mget_stock_returns\u001b[0m\u001b[1;33m(\u001b[0m\u001b[0mstocks\u001b[0m\u001b[1;33m,\u001b[0m \u001b[0ms\u001b[0m\u001b[1;33m,\u001b[0m \u001b[0me\u001b[0m\u001b[1;33m,\u001b[0m \u001b[0mfreq\u001b[0m\u001b[1;33m)\u001b[0m\u001b[1;33m\u001b[0m\u001b[0m\n",
      "\u001b[1;32m/home/song/dev/csf-factors/factors/get_data.py\u001b[0m in \u001b[0;36mget_benchmark_return\u001b[1;34m(bench_code, dt_index)\u001b[0m\n\u001b[0;32m     64\u001b[0m         index_code=bench_code, start_date=st, end_date=et, field=field)\n\u001b[0;32m     65\u001b[0m     \u001b[0mprice\u001b[0m \u001b[1;33m=\u001b[0m \u001b[0mdf\u001b[0m\u001b[1;33m[\u001b[0m\u001b[0mfield\u001b[0m\u001b[1;33m]\u001b[0m\u001b[1;33m.\u001b[0m\u001b[0mix\u001b[0m\u001b[1;33m[\u001b[0m\u001b[0mdt_index\u001b[0m\u001b[1;33m,\u001b[0m \u001b[1;33m:\u001b[0m\u001b[1;33m]\u001b[0m\u001b[1;33m.\u001b[0m\u001b[0mrename\u001b[0m\u001b[1;33m(\u001b[0m\u001b[0mcolumns\u001b[0m\u001b[1;33m=\u001b[0m\u001b[1;33m{\u001b[0m\u001b[1;34m'close'\u001b[0m\u001b[1;33m:\u001b[0m \u001b[1;34m'benchmark_returns'\u001b[0m\u001b[1;33m}\u001b[0m\u001b[1;33m)\u001b[0m\u001b[1;33m\u001b[0m\u001b[0m\n\u001b[1;32m---> 66\u001b[1;33m     \u001b[0mprice\u001b[0m\u001b[1;33m.\u001b[0m\u001b[0mindex\u001b[0m \u001b[1;33m=\u001b[0m \u001b[0mprice\u001b[0m\u001b[1;33m.\u001b[0m\u001b[0mindex\u001b[0m\u001b[1;33m.\u001b[0m\u001b[0mmap\u001b[0m\u001b[1;33m(\u001b[0m\u001b[1;32mlambda\u001b[0m \u001b[0mdt\u001b[0m\u001b[1;33m:\u001b[0m \u001b[0mstr\u001b[0m\u001b[1;33m(\u001b[0m\u001b[0mdt\u001b[0m\u001b[1;33m.\u001b[0m\u001b[0mdate\u001b[0m\u001b[1;33m(\u001b[0m\u001b[1;33m)\u001b[0m\u001b[1;33m)\u001b[0m\u001b[1;33m)\u001b[0m\u001b[1;33m\u001b[0m\u001b[0m\n\u001b[0m\u001b[0;32m     67\u001b[0m     \u001b[0mprice\u001b[0m\u001b[1;33m.\u001b[0m\u001b[0mindex\u001b[0m\u001b[1;33m.\u001b[0m\u001b[0mname\u001b[0m \u001b[1;33m=\u001b[0m \u001b[1;34m'date'\u001b[0m\u001b[1;33m\u001b[0m\u001b[0m\n\u001b[0;32m     68\u001b[0m     \u001b[0mret\u001b[0m \u001b[1;33m=\u001b[0m \u001b[0mprice\u001b[0m\u001b[1;33m.\u001b[0m\u001b[0mpct_change\u001b[0m\u001b[1;33m(\u001b[0m\u001b[1;33m)\u001b[0m\u001b[1;33m.\u001b[0m\u001b[0mshift\u001b[0m\u001b[1;33m(\u001b[0m\u001b[1;33m-\u001b[0m\u001b[1;36m1\u001b[0m\u001b[1;33m)\u001b[0m\u001b[1;33m.\u001b[0m\u001b[0mdropna\u001b[0m\u001b[1;33m(\u001b[0m\u001b[1;33m)\u001b[0m\u001b[1;33m\u001b[0m\u001b[0m\n",
      "\u001b[1;32m/home/song/anaconda/lib/python2.7/site-packages/pandas/indexes/base.pyc\u001b[0m in \u001b[0;36mmap\u001b[1;34m(self, mapper)\u001b[0m\n\u001b[0;32m   2158\u001b[0m \u001b[1;33m\u001b[0m\u001b[0m\n\u001b[0;32m   2159\u001b[0m     \u001b[1;32mdef\u001b[0m \u001b[0mmap\u001b[0m\u001b[1;33m(\u001b[0m\u001b[0mself\u001b[0m\u001b[1;33m,\u001b[0m \u001b[0mmapper\u001b[0m\u001b[1;33m)\u001b[0m\u001b[1;33m:\u001b[0m\u001b[1;33m\u001b[0m\u001b[0m\n\u001b[1;32m-> 2160\u001b[1;33m         \u001b[1;32mreturn\u001b[0m \u001b[0mself\u001b[0m\u001b[1;33m.\u001b[0m\u001b[0m_arrmap\u001b[0m\u001b[1;33m(\u001b[0m\u001b[0mself\u001b[0m\u001b[1;33m.\u001b[0m\u001b[0mvalues\u001b[0m\u001b[1;33m,\u001b[0m \u001b[0mmapper\u001b[0m\u001b[1;33m)\u001b[0m\u001b[1;33m\u001b[0m\u001b[0m\n\u001b[0m\u001b[0;32m   2161\u001b[0m \u001b[1;33m\u001b[0m\u001b[0m\n\u001b[0;32m   2162\u001b[0m     \u001b[1;32mdef\u001b[0m \u001b[0misin\u001b[0m\u001b[1;33m(\u001b[0m\u001b[0mself\u001b[0m\u001b[1;33m,\u001b[0m \u001b[0mvalues\u001b[0m\u001b[1;33m,\u001b[0m \u001b[0mlevel\u001b[0m\u001b[1;33m=\u001b[0m\u001b[0mNone\u001b[0m\u001b[1;33m)\u001b[0m\u001b[1;33m:\u001b[0m\u001b[1;33m\u001b[0m\u001b[0m\n",
      "\u001b[1;32mpandas/src/generated.pyx\u001b[0m in \u001b[0;36mpandas.algos.arrmap_object (pandas/algos.c:82734)\u001b[1;34m()\u001b[0m\n",
      "\u001b[1;32m/home/song/dev/csf-factors/factors/get_data.py\u001b[0m in \u001b[0;36m<lambda>\u001b[1;34m(dt)\u001b[0m\n\u001b[0;32m     64\u001b[0m         index_code=bench_code, start_date=st, end_date=et, field=field)\n\u001b[0;32m     65\u001b[0m     \u001b[0mprice\u001b[0m \u001b[1;33m=\u001b[0m \u001b[0mdf\u001b[0m\u001b[1;33m[\u001b[0m\u001b[0mfield\u001b[0m\u001b[1;33m]\u001b[0m\u001b[1;33m.\u001b[0m\u001b[0mix\u001b[0m\u001b[1;33m[\u001b[0m\u001b[0mdt_index\u001b[0m\u001b[1;33m,\u001b[0m \u001b[1;33m:\u001b[0m\u001b[1;33m]\u001b[0m\u001b[1;33m.\u001b[0m\u001b[0mrename\u001b[0m\u001b[1;33m(\u001b[0m\u001b[0mcolumns\u001b[0m\u001b[1;33m=\u001b[0m\u001b[1;33m{\u001b[0m\u001b[1;34m'close'\u001b[0m\u001b[1;33m:\u001b[0m \u001b[1;34m'benchmark_returns'\u001b[0m\u001b[1;33m}\u001b[0m\u001b[1;33m)\u001b[0m\u001b[1;33m\u001b[0m\u001b[0m\n\u001b[1;32m---> 66\u001b[1;33m     \u001b[0mprice\u001b[0m\u001b[1;33m.\u001b[0m\u001b[0mindex\u001b[0m \u001b[1;33m=\u001b[0m \u001b[0mprice\u001b[0m\u001b[1;33m.\u001b[0m\u001b[0mindex\u001b[0m\u001b[1;33m.\u001b[0m\u001b[0mmap\u001b[0m\u001b[1;33m(\u001b[0m\u001b[1;32mlambda\u001b[0m \u001b[0mdt\u001b[0m\u001b[1;33m:\u001b[0m \u001b[0mstr\u001b[0m\u001b[1;33m(\u001b[0m\u001b[0mdt\u001b[0m\u001b[1;33m.\u001b[0m\u001b[0mdate\u001b[0m\u001b[1;33m(\u001b[0m\u001b[1;33m)\u001b[0m\u001b[1;33m)\u001b[0m\u001b[1;33m)\u001b[0m\u001b[1;33m\u001b[0m\u001b[0m\n\u001b[0m\u001b[0;32m     67\u001b[0m     \u001b[0mprice\u001b[0m\u001b[1;33m.\u001b[0m\u001b[0mindex\u001b[0m\u001b[1;33m.\u001b[0m\u001b[0mname\u001b[0m \u001b[1;33m=\u001b[0m \u001b[1;34m'date'\u001b[0m\u001b[1;33m\u001b[0m\u001b[0m\n\u001b[0;32m     68\u001b[0m     \u001b[0mret\u001b[0m \u001b[1;33m=\u001b[0m \u001b[0mprice\u001b[0m\u001b[1;33m.\u001b[0m\u001b[0mpct_change\u001b[0m\u001b[1;33m(\u001b[0m\u001b[1;33m)\u001b[0m\u001b[1;33m.\u001b[0m\u001b[0mshift\u001b[0m\u001b[1;33m(\u001b[0m\u001b[1;33m-\u001b[0m\u001b[1;36m1\u001b[0m\u001b[1;33m)\u001b[0m\u001b[1;33m.\u001b[0m\u001b[0mdropna\u001b[0m\u001b[1;33m(\u001b[0m\u001b[1;33m)\u001b[0m\u001b[1;33m\u001b[0m\u001b[0m\n",
      "\u001b[1;31mAttributeError\u001b[0m: 'unicode' object has no attribute 'date'"
     ]
    }
   ],
   "source": [
    "data = prepare_data(factor_name='M001012', index_code='000300', benchmark_code='000300', start_date='2012-01-01', end_date='2016-07-01',freq='M')"
   ]
  },
  {
   "cell_type": "code",
   "execution_count": null,
   "metadata": {
    "collapsed": true
   },
   "outputs": [],
   "source": [
    "data_g = add_group(data)"
   ]
  },
  {
   "cell_type": "code",
   "execution_count": null,
   "metadata": {
    "collapsed": true
   },
   "outputs": [],
   "source": [
    "ic_ret = information_coefficient_analysis(data_g)"
   ]
  },
  {
   "cell_type": "code",
   "execution_count": null,
   "metadata": {
    "collapsed": true
   },
   "outputs": [],
   "source": [
    "ret = return_analysis(data_g)"
   ]
  },
  {
   "cell_type": "code",
   "execution_count": null,
   "metadata": {
    "collapsed": false
   },
   "outputs": [],
   "source": [
    "def plot_ret(Return_analysis):\n",
    "    \"\"\"\n",
    "    收益率分析作图\n",
    "    :param Return_analysis:  TODO 加入Benchmark Return\n",
    "    :return:\n",
    "    \"\"\"\n",
    "    cum_ret = Return_analysis.group_cum_return\n",
    "    mean_ret = Return_analysis.group_mean_return\n",
    "\n",
    "    import matplotlib.gridspec as gridspec\n",
    "    with plt.rc_context({'figure.figsize': (15, 10)}):\n",
    "        gs = gridspec.GridSpec(3, 3)\n",
    "        ax1 = plt.subplot(gs[0, :])\n",
    "        colors = plt.rcParams['axes.color_cycle'][:6]\n",
    "        axes = [plt.subplot(gs[i,j]) for i in range(1,3) for j in range(3)]\n",
    "        cols = [mean_ret[col] for col in mean_ret.columns]\n",
    "        \n",
    "        plot_cum_return(cum_ret, mean_ret, ax=ax1)        \n",
    "        for (ax, data, color, col_name) in zip(axes, cols, colors, mean_ret.columns):\n",
    "            ax.hist(data, color=color)\n",
    "            title = '%s mean ret dist plot'  % col_name\n",
    "            ax.set_title(title)\n",
    "        plt.tight_layout()\n",
    "        \n",
    "def plot_cum_return(cum_ret, mean_ret, ax=None):\n",
    "    if not ax:\n",
    "        ax = plt.gca()\n",
    "#         cum_ret['benchmark'] = ben_ret.cumprod()\n",
    "    ax = cum_ret.plot(ax=ax)\n",
    "    ax = mean_ret.ix[:, 'Q_LS'].plot(\n",
    "        kind='bar', ax=ax, secondary_y=True, legend=True)\n",
    "    xticklabels = cum_ret.index.values.copy()\n",
    "    N = len(cum_ret)\n",
    "    ax.set_xticklabels([''] * N)\n",
    "    if N > 10:\n",
    "        step = int(N / 10)\n",
    "        xticklabels[np.arange(N) % step != 0] = ''\n",
    "    ax.set_xticklabels(xticklabels)\n",
    "    ax.set_title('Cum Return Plot')\n",
    "    return ax"
   ]
  },
  {
   "cell_type": "code",
   "execution_count": null,
   "metadata": {
    "collapsed": false,
    "scrolled": true
   },
   "outputs": [],
   "source": [
    "plot_ret(ret)"
   ]
  },
  {
   "cell_type": "code",
   "execution_count": null,
   "metadata": {
    "collapsed": false
   },
   "outputs": [],
   "source": [
    "a[1]"
   ]
  },
  {
   "cell_type": "code",
   "execution_count": null,
   "metadata": {
    "collapsed": true
   },
   "outputs": [],
   "source": [
    "tu = turnover_analysis(data_g)"
   ]
  },
  {
   "cell_type": "code",
   "execution_count": null,
   "metadata": {
    "collapsed": false
   },
   "outputs": [],
   "source": [
    "tu.auto_correlation.mean().plot(kind='bar', title='auto_correlation')"
   ]
  },
  {
   "cell_type": "code",
   "execution_count": null,
   "metadata": {
    "collapsed": true
   },
   "outputs": [],
   "source": [
    "def plot_turnover(Turnover_analysis):\n",
    "    \"\"\"\n",
    "    换手率作图\n",
    "    :param Turnover_analysis:\n",
    "    :return:\n",
    "    \"\"\"\n",
    "    auto_cor = Turnover_analysis.auto_correlation.mean()\n",
    "    buy_signal = Turnover_analysis.buy_signal\n",
    "    turnover = Turnover_analysis.turnover\n",
    "\n",
    "    orignal_figsize = plt.rcParams['figure.figsize']\n",
    "    plt.rcParams['figure.figsize'] = (14, 4)\n",
    "    fig1 = plt.figure()\n",
    "    ax1 = fig1.add_subplot(111)\n",
    "    turnover.plot(ax=ax1, title='turnover')\n",
    "\n",
    "    fig_signal = plt.figure()\n",
    "    ax_decay = fig_signal.add_subplot(121)\n",
    "    buy_signal.decay.plot(ax=ax_decay, title='singal decay')\n",
    "    ax_reversal = fig_signal.add_subplot(122)\n",
    "    buy_signal.reversal.plot(ax=ax_reversal, title='signal reversal')\n",
    "    plt.rcParams['figure.figsize'] = orignal_figsize"
   ]
  },
  {
   "cell_type": "code",
   "execution_count": null,
   "metadata": {
    "collapsed": false
   },
   "outputs": [],
   "source": [
    "plot_turnover(tu)"
   ]
  },
  {
   "cell_type": "code",
   "execution_count": null,
   "metadata": {
    "collapsed": true
   },
   "outputs": [],
   "source": [
    "tu.buy_signal"
   ]
  },
  {
   "cell_type": "code",
   "execution_count": null,
   "metadata": {
    "collapsed": true
   },
   "outputs": [],
   "source": [
    "def fun(a,b=None, c=1):\n",
    "    pass"
   ]
  },
  {
   "cell_type": "code",
   "execution_count": null,
   "metadata": {
    "collapsed": false
   },
   "outputs": [],
   "source": [
    "fun(b=None, c=1,a)"
   ]
  },
  {
   "cell_type": "code",
   "execution_count": null,
   "metadata": {
    "collapsed": false
   },
   "outputs": [],
   "source": [
    "ret.group_cum_return.plot(kind='hist', subplots=True,layout=(2,3), sharex=True)"
   ]
  },
  {
   "cell_type": "code",
   "execution_count": null,
   "metadata": {
    "collapsed": true
   },
   "outputs": [],
   "source": [
    "import numpy as np"
   ]
  },
  {
   "cell_type": "code",
   "execution_count": null,
   "metadata": {
    "collapsed": true
   },
   "outputs": [],
   "source": [
    "a = np.arange(0,10).reshape(2,5)"
   ]
  },
  {
   "cell_type": "code",
   "execution_count": null,
   "metadata": {
    "collapsed": false
   },
   "outputs": [],
   "source": [
    "a"
   ]
  },
  {
   "cell_type": "code",
   "execution_count": null,
   "metadata": {
    "collapsed": false
   },
   "outputs": [],
   "source": [
    "b = a.flatten()"
   ]
  },
  {
   "cell_type": "code",
   "execution_count": null,
   "metadata": {
    "collapsed": true
   },
   "outputs": [],
   "source": [
    "np.flatiter??"
   ]
  },
  {
   "cell_type": "code",
   "execution_count": null,
   "metadata": {
    "collapsed": true
   },
   "outputs": [],
   "source": []
  },
  {
   "cell_type": "code",
   "execution_count": null,
   "metadata": {
    "collapsed": false
   },
   "outputs": [],
   "source": [
    "b"
   ]
  },
  {
   "cell_type": "code",
   "execution_count": null,
   "metadata": {
    "collapsed": true
   },
   "outputs": [],
   "source": [
    "import pandas as pd"
   ]
  },
  {
   "cell_type": "code",
   "execution_count": null,
   "metadata": {
    "collapsed": true
   },
   "outputs": [],
   "source": [
    "df = pd.DataFrame(np.random.randn(100,7), columns=list('ABCDEFG'))\n",
    "plt.style.use('ggplot')\n",
    "def myplot(df):\n",
    "    gs = matplotlib.gridspec.GridSpec(3,3)\n",
    "    ax1 = plt.subplot(gs[0,:])\n",
    "    colors = plt.rcParams['axes.color_cycle'][:6]\n",
    "    \n",
    "    axes = [ plt.subplot(gs[i, j]) for i in range(1,3) for j in range(3)]\n",
    "    \n",
    "    cols = [ df[col] for col in df.loc[:, 'B':].columns ] \n",
    "    \n",
    "    df.A.plot(ax=ax1)\n",
    "    for (ax, data, color) in zip(axes, cols, colors):\n",
    "        ax.hist(data, color=color)\n",
    "    plt.tight_layout()"
   ]
  },
  {
   "cell_type": "code",
   "execution_count": null,
   "metadata": {
    "collapsed": false
   },
   "outputs": [],
   "source": [
    "myplot(df)"
   ]
  },
  {
   "cell_type": "code",
   "execution_count": null,
   "metadata": {
    "collapsed": true
   },
   "outputs": [],
   "source": [
    "code_ret =  code_analysis(data_g)"
   ]
  },
  {
   "cell_type": "code",
   "execution_count": null,
   "metadata": {
    "collapsed": false
   },
   "outputs": [],
   "source": [
    "code_ret.industry_analysis.gp_industry_percent['Q01'].mean()"
   ]
  },
  {
   "cell_type": "code",
   "execution_count": null,
   "metadata": {
    "collapsed": false
   },
   "outputs": [],
   "source": [
    "def plot_code_result(Code_analysis, group='Q01'):\n",
    "    \"\"\"\n",
    "    选股结果分析作图\n",
    "    :param Code_analysis:\n",
    "    :return:\n",
    "    \"\"\"\n",
    "    origin_figsize = plt.rcParams['figure.figsize']\n",
    "    # cap\n",
    "    plt.rcParams['figure.figsize'] = (12, 4)\n",
    "    plt.style.use('ggplot')\n",
    "    df = Code_analysis.cap_analysis.copy()\n",
    "    industry_q = Code_analysis.industry_analysis.gp_industry_percent[group].copy()\n",
    "    gp_industry_percent = Code_analysis.industry_analysis.gp_mean_per.copy()\n",
    "\n",
    "    mean_cap = df.mean()\n",
    "    \n",
    "    fig = plt.figure()\n",
    "    ax_cap = fig.add_subplot(121)\n",
    "    df[group].plot(kind='area', ax=ax_cap, title='%s Mean Cap' %group, fontsize=10)\n",
    "    \n",
    "    ax_mean_cap = fig.add_subplot(122)\n",
    "    mean_cap.plot(\n",
    "        kind='bar', ax=ax_mean_cap, title='Mean Cap for each group', fontsize=10)\n",
    "    plt.subplots_adjust(bottom=0.0, left=.01, top=0.9, right=1.5)\n",
    "    \n",
    "    # industry\n",
    "    fig2 = plt.figure()\n",
    "    import matplotlib.gridspec as gridspec\n",
    "    gs = gridspec.GridSpec(1, 5)\n",
    "    ax1 = fig2.add_subplot(gs[0, 0:3])\n",
    "    plot_insdustry_percent(industry_q, ax=ax1)\n",
    "    ax1.set_title('Industry distribution for %s' %group)\n",
    "    ax2 = plt.subplot(gs[0, 3:])\n",
    "    gp_industry_percent = gp_industry_percent.fillna(0)\n",
    "    \n",
    "    plot_industry_mean_percent(industry_q.mean(), ax=ax2)\n",
    "    plt.subplots_adjust(bottom=0, left=.01, right=1.5, wspace=0.5)\n",
    "    # plt.tight_layout(w_pad=8)\n",
    "    plt.rcParams['figure.figsize'] = origin_figsize\n",
    "\n",
    "\n",
    "def plot_insdustry_percent(df, ax=None):\n",
    "    if ax is None:\n",
    "        ax = plt.gca()\n",
    "    # 取得各个style下面的color\n",
    "#     colors_ = _get_colors()\n",
    "    ax = df.plot(\n",
    "        kind='bar', stacked=True,ax=ax, width=1, alpha=0.6)\n",
    "    ax, font = _show_chinese_character(ax)\n",
    "    ax.legend(loc='center left', bbox_to_anchor=(1, 0.5), prop=font)\n",
    "    ax.set_ylim([0, 1.0])\n",
    "    return ax\n",
    "\n",
    "\n",
    "def plot_industry_mean_percent(df, ax=None):\n",
    "    ax = df.plot(kind='pie', ax=ax)\n",
    "    ax, _ = _show_chinese_character(ax)\n",
    "    return ax\n",
    "\n",
    "\n",
    "\n",
    "def _show_chinese_character(ax):\n",
    "    import os\n",
    "    from matplotlib.font_manager import FontProperties\n",
    "    if os.name == 'posix':\n",
    "        fname = r'/usr/share/fonts/truetype/wqy/wqy-microhei.ttc'\n",
    "    elif os.name == 'nt':\n",
    "        fname = r\"c:\\windows\\fonts\\simsun.ttc\"\n",
    "    font = FontProperties(fname=fname, size=10)\n",
    "\n",
    "    labels = ax.get_xticklabels()+ax.legend().texts+[ax.title]\n",
    "\n",
    "    for label in labels:\n",
    "        label.set_fontproperties(font)\n",
    "    return ax, font"
   ]
  },
  {
   "cell_type": "code",
   "execution_count": null,
   "metadata": {
    "collapsed": false
   },
   "outputs": [],
   "source": [
    "plot_code_result(code_ret)"
   ]
  },
  {
   "cell_type": "code",
   "execution_count": null,
   "metadata": {
    "collapsed": false
   },
   "outputs": [],
   "source": [
    "df['A','B']"
   ]
  },
  {
   "cell_type": "code",
   "execution_count": 10,
   "metadata": {
    "collapsed": true
   },
   "outputs": [],
   "source": [
    "import pandas as pd"
   ]
  },
  {
   "cell_type": "code",
   "execution_count": null,
   "metadata": {
    "collapsed": true
   },
   "outputs": [],
   "source": []
  }
 ],
 "metadata": {
  "kernelspec": {
   "display_name": "Python 2",
   "language": "python",
   "name": "python2"
  },
  "language_info": {
   "codemirror_mode": {
    "name": "ipython",
    "version": 2
   },
   "file_extension": ".py",
   "mimetype": "text/x-python",
   "name": "python",
   "nbconvert_exporter": "python",
   "pygments_lexer": "ipython2",
   "version": "2.7.11"
  }
 },
 "nbformat": 4,
 "nbformat_minor": 0
}
